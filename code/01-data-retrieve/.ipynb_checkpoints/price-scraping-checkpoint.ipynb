{
 "cells": [
  {
   "cell_type": "markdown",
   "metadata": {},
   "source": [
    "# Data Scraping for Housing Price Predictions"
   ]
  },
  {
   "cell_type": "markdown",
   "metadata": {},
   "source": [
    "This notebook is the first part of the project focusing on predicting house prices in Amsterdam. The goal is to retrieve current house sales listings from a website with information about the price, location, size etc. \n",
    "\n",
    "The data gathered in this is only for personnal use and is not distributed widely. For web scraping I suggest to respect the wishes of the source company and do the scraping in respectful ways.  "
   ]
  },
  {
   "cell_type": "code",
   "execution_count": 1,
   "metadata": {},
   "outputs": [],
   "source": [
    "# Import Libraries\n",
    "import pandas as pd\n",
    "import numpy as np\n",
    "from bs4 import BeautifulSoup\n",
    "import re\n",
    "import requests\n",
    "import time"
   ]
  },
  {
   "cell_type": "markdown",
   "metadata": {},
   "source": [
    "## Web Scraping"
   ]
  },
  {
   "cell_type": "code",
   "execution_count": 2,
   "metadata": {},
   "outputs": [],
   "source": [
    "# Define url to be retrieved\n",
    "retrieve_url = 'URL'"
   ]
  },
  {
   "cell_type": "code",
   "execution_count": 3,
   "metadata": {},
   "outputs": [],
   "source": [
    "# Set up base dataframe\n",
    "houses = pd.DataFrame(columns=['price', 'post_code', 'neighborhood', 'living_area', 'rooms', 'year', 'url'])"
   ]
  },
  {
   "cell_type": "code",
   "execution_count": 4,
   "metadata": {},
   "outputs": [],
   "source": [
    "# Scraping search results\n",
    "for i in range(1, 70):\n",
    "    html = requests.get(retrieve_url+'page-'+str(i)).content \n",
    "    soup = BeautifulSoup(html, \"lxml\") \n",
    "\n",
    "    locations = [loc.text.replace('\\n', '').replace('nieuw', '').strip() for loc in soup.find_all('div', class_='listing-search-item__location')]\n",
    "    post_code = [code[:7] for code in locations]\n",
    "    neighborhood = [el.split('(')[1].replace(')', '') for el in locations ]\n",
    "\n",
    "    prices = [re.sub(\"[^0-9]\", \"\", price.text) for price in soup.find_all('span', class_='listing-search-item__price')]\n",
    "\n",
    "        # Retrieve icon descriptions\n",
    "    descriptions = [area.text.strip() for area in soup.find_all('div', class_='illustrated-features__item')]\n",
    "\n",
    "    living_area = []\n",
    "    rooms = []\n",
    "    year = []\n",
    "\n",
    "    for d in descriptions:\n",
    "        if re.search('woonop', d):\n",
    "            living_area.append(re.sub(\"[^0-9]\", \"\", d))\n",
    "        elif re.search('kamers', d):\n",
    "            rooms.append(re.sub(\"[^0-9]\", \"\", d))\n",
    "        elif re.search('bouwjaar', d):\n",
    "            year.append(re.sub(\"[^0-9]\", \"\", d))\n",
    "\n",
    "        url = [url.get('href') for url in soup.find_all('a', class_='listing-search-item__link listing-search-item__link--title')]\n",
    "\n",
    "    if len(prices) == len(post_code) == len(neighborhood) == len(living_area) == len(rooms) == len(url) == len(year):\n",
    "        houses = houses.append(pd.DataFrame({'price': prices, 'post_code':post_code, 'neighborhood':neighborhood, 'living_area':living_area, 'rooms':rooms, 'year':year, 'url':url}), ignore_index=True)\n",
    "\n",
    "    # Set sleep to avoid too much traffic at once\n",
    "    time.sleep(3)"
   ]
  },
  {
   "cell_type": "code",
   "execution_count": 5,
   "metadata": {},
   "outputs": [
    {
     "data": {
      "text/plain": [
       "1980"
      ]
     },
     "execution_count": 5,
     "metadata": {},
     "output_type": "execute_result"
    }
   ],
   "source": [
    "# Check the results\n",
    "len(houses)"
   ]
  },
  {
   "cell_type": "code",
   "execution_count": 6,
   "metadata": {},
   "outputs": [
    {
     "data": {
      "text/html": [
       "<div>\n",
       "<style scoped>\n",
       "    .dataframe tbody tr th:only-of-type {\n",
       "        vertical-align: middle;\n",
       "    }\n",
       "\n",
       "    .dataframe tbody tr th {\n",
       "        vertical-align: top;\n",
       "    }\n",
       "\n",
       "    .dataframe thead th {\n",
       "        text-align: right;\n",
       "    }\n",
       "</style>\n",
       "<table border=\"1\" class=\"dataframe\">\n",
       "  <thead>\n",
       "    <tr style=\"text-align: right;\">\n",
       "      <th></th>\n",
       "      <th>price</th>\n",
       "      <th>post_code</th>\n",
       "      <th>neighborhood</th>\n",
       "      <th>living_area</th>\n",
       "      <th>rooms</th>\n",
       "      <th>year</th>\n",
       "      <th>url</th>\n",
       "    </tr>\n",
       "  </thead>\n",
       "  <tbody>\n",
       "    <tr>\n",
       "      <th>0</th>\n",
       "      <td>395000</td>\n",
       "      <td>1082 CH</td>\n",
       "      <td>Buitenveldert Midden Zuid</td>\n",
       "      <td>82</td>\n",
       "      <td>4</td>\n",
       "      <td>1961</td>\n",
       "      <td>/appartement-te-koop/amsterdam/1b33ec7a/rietnesse</td>\n",
       "    </tr>\n",
       "    <tr>\n",
       "      <th>1</th>\n",
       "      <td>475000</td>\n",
       "      <td>1061 BM</td>\n",
       "      <td>Kolenkitbuurt Zuid</td>\n",
       "      <td>105</td>\n",
       "      <td>3</td>\n",
       "      <td>2009</td>\n",
       "      <td>/appartement-te-koop/amsterdam/0f0cb3f8/blauwv...</td>\n",
       "    </tr>\n",
       "    <tr>\n",
       "      <th>2</th>\n",
       "      <td>325000</td>\n",
       "      <td>1055 HR</td>\n",
       "      <td>Bosleeuw</td>\n",
       "      <td>61</td>\n",
       "      <td>3</td>\n",
       "      <td>1942</td>\n",
       "      <td>/appartement-te-koop/amsterdam/c2d2d29c/granid...</td>\n",
       "    </tr>\n",
       "    <tr>\n",
       "      <th>3</th>\n",
       "      <td>315000</td>\n",
       "      <td>1092 VB</td>\n",
       "      <td>Transvaalbuurt Oost</td>\n",
       "      <td>49</td>\n",
       "      <td>2</td>\n",
       "      <td>1923</td>\n",
       "      <td>/appartement-te-koop/amsterdam/e6abaf97/tugelaweg</td>\n",
       "    </tr>\n",
       "    <tr>\n",
       "      <th>4</th>\n",
       "      <td>425000</td>\n",
       "      <td>1094 EX</td>\n",
       "      <td>Oostpoort</td>\n",
       "      <td>90</td>\n",
       "      <td>4</td>\n",
       "      <td>1986</td>\n",
       "      <td>/appartement-te-koop/amsterdam/a573c2f3/celebe...</td>\n",
       "    </tr>\n",
       "  </tbody>\n",
       "</table>\n",
       "</div>"
      ],
      "text/plain": [
       "    price post_code               neighborhood living_area rooms  year  \\\n",
       "0  395000   1082 CH  Buitenveldert Midden Zuid          82     4  1961   \n",
       "1  475000   1061 BM         Kolenkitbuurt Zuid         105     3  2009   \n",
       "2  325000   1055 HR                   Bosleeuw          61     3  1942   \n",
       "3  315000   1092 VB        Transvaalbuurt Oost          49     2  1923   \n",
       "4  425000   1094 EX                  Oostpoort          90     4  1986   \n",
       "\n",
       "                                                 url  \n",
       "0  /appartement-te-koop/amsterdam/1b33ec7a/rietnesse  \n",
       "1  /appartement-te-koop/amsterdam/0f0cb3f8/blauwv...  \n",
       "2  /appartement-te-koop/amsterdam/c2d2d29c/granid...  \n",
       "3  /appartement-te-koop/amsterdam/e6abaf97/tugelaweg  \n",
       "4  /appartement-te-koop/amsterdam/a573c2f3/celebe...  "
      ]
     },
     "execution_count": 6,
     "metadata": {},
     "output_type": "execute_result"
    }
   ],
   "source": [
    "houses.head()"
   ]
  },
  {
   "cell_type": "markdown",
   "metadata": {},
   "source": [
    "Now that we have the base data, let's retrieve some additional information from each house"
   ]
  },
  {
   "cell_type": "code",
   "execution_count": 7,
   "metadata": {},
   "outputs": [],
   "source": [
    "house_info = pd.DataFrame(columns=['offered_since', 'status', 'monthly_cost_vve', 'type', 'bedrooms', 'bathrooms', 'isolation', 'energy_label','heating', 'parking', 'garage', 'balcony', 'garden', 'storage','url'])"
   ]
  },
  {
   "cell_type": "code",
   "execution_count": 9,
   "metadata": {},
   "outputs": [],
   "source": [
    "base_url = 'URL'\n",
    "\n",
    "\n",
    "for url in houses['url']:\n",
    "    html = requests.get(base_url+url).content\n",
    "    soup = BeautifulSoup(html, \"lxml\") \n",
    "\n",
    "    base_class = 'listing-features__description listing-features__description--'\n",
    "\n",
    "    try:\n",
    "        offered_since = soup.find(class_=base_class+'offered_since').text\n",
    "    except:\n",
    "        offered_since = 'N/A'\n",
    "    try:\n",
    "        status = soup.find(class_=base_class+'status').text\n",
    "    except:\n",
    "        status = 'N/A'\n",
    "\n",
    "    try:\n",
    "        monthly_cost_vve = soup.find(class_=base_class+'monthly_contribution').text\n",
    "    except:\n",
    "        monthly_cost_vve = 0\n",
    "\n",
    "    try:\n",
    "        type_woning = soup.find(class_=base_class+'dwelling_type').text\n",
    "    except:\n",
    "        type_woning = 'N/A'\n",
    "    try:\n",
    "        slaap_kamers = soup.find(class_=base_class+'number_of_bedrooms').text\n",
    "    except:\n",
    "        slaap_kamers = 'N/A'\n",
    "    try:\n",
    "        bathroom = soup.find(class_=base_class+'number_of_bathrooms').text\n",
    "    except:\n",
    "        bathroom = 'N/A'\n",
    "    try:\n",
    "        isolation = soup.find(class_=base_class+'insulations').text\n",
    "    except:\n",
    "        isolation = 'N/A'\n",
    "\n",
    "    for label in ['a', 'b', 'c', 'd', 'e', 'f', 'g']:\n",
    "        try:\n",
    "            energy_label = soup.find(class_=base_class+'energy-label-'+label).text\n",
    "        except:\n",
    "             energy_label = 'N/A'\n",
    "        if energy_label.lower() == label:\n",
    "            break\n",
    "\n",
    "    try:\n",
    "        parking = soup.find(class_=base_class+'parking').text\n",
    "    except: \n",
    "        parking = 'N/A'\n",
    "    try:\n",
    "        garage = soup.find(class_=base_class+'available').text\n",
    "    except:\n",
    "        garage = 'N/A'\n",
    "    try:\n",
    "        balkon = soup.find(class_=base_class+'balcony').text\n",
    "    except:\n",
    "        balkon = 'N/A'\n",
    "\n",
    "    try:\n",
    "        garden = soup.find(class_=base_class+'garden').text\n",
    "    except:\n",
    "        garden = 'N/A'\n",
    "\n",
    "    try:\n",
    "        storage = soup.find(class_=base_class+'storage').text\n",
    "    except:\n",
    "        storage = 'N/A'\n",
    "    try:\n",
    "        warming = soup.find(class_=base_class+'heatings').text\n",
    "    except:\n",
    "        warming = 'N/A'\n",
    "        \n",
    "    house_info = house_info.append(pd.DataFrame({'offered_since':[offered_since], 'status':[status], 'monthly_cost_vve':[monthly_cost_vve], 'type':[type_woning], 'bedrooms':[slaap_kamers], 'bathrooms':[bathroom], 'isolation':[isolation], 'energy_label':[energy_label],'heating':[warming], 'parking':[parking], 'garage':[garage], 'balcony':[balkon], 'garden':[garden], 'storage':[storage],'url':[url]}),ignore_index=True)\n",
    "    \n",
    "    time.sleep(3)"
   ]
  },
  {
   "cell_type": "markdown",
   "metadata": {},
   "source": [
    "house_info.shape"
   ]
  },
  {
   "cell_type": "code",
   "execution_count": 10,
   "metadata": {},
   "outputs": [
    {
     "data": {
      "text/html": [
       "<div>\n",
       "<style scoped>\n",
       "    .dataframe tbody tr th:only-of-type {\n",
       "        vertical-align: middle;\n",
       "    }\n",
       "\n",
       "    .dataframe tbody tr th {\n",
       "        vertical-align: top;\n",
       "    }\n",
       "\n",
       "    .dataframe thead th {\n",
       "        text-align: right;\n",
       "    }\n",
       "</style>\n",
       "<table border=\"1\" class=\"dataframe\">\n",
       "  <thead>\n",
       "    <tr style=\"text-align: right;\">\n",
       "      <th></th>\n",
       "      <th>offered_since</th>\n",
       "      <th>status</th>\n",
       "      <th>monthly_cost_vve</th>\n",
       "      <th>type</th>\n",
       "      <th>bedrooms</th>\n",
       "      <th>bathrooms</th>\n",
       "      <th>isolation</th>\n",
       "      <th>energy_label</th>\n",
       "      <th>heating</th>\n",
       "      <th>parking</th>\n",
       "      <th>garage</th>\n",
       "      <th>balcony</th>\n",
       "      <th>garden</th>\n",
       "      <th>storage</th>\n",
       "      <th>url</th>\n",
       "    </tr>\n",
       "  </thead>\n",
       "  <tbody>\n",
       "    <tr>\n",
       "      <th>0</th>\n",
       "      <td>08-07-2020</td>\n",
       "      <td>Beschikbaar</td>\n",
       "      <td>0</td>\n",
       "      <td>Appartement</td>\n",
       "      <td>3</td>\n",
       "      <td>1</td>\n",
       "      <td>Dubbele beglazing</td>\n",
       "      <td>C</td>\n",
       "      <td>CV-ketel</td>\n",
       "      <td>Betaald</td>\n",
       "      <td>N/A</td>\n",
       "      <td>Niet aanwezig</td>\n",
       "      <td>N/A</td>\n",
       "      <td>Aanwezig</td>\n",
       "      <td>/appartement-te-koop/amsterdam/1b33ec7a/rietnesse</td>\n",
       "    </tr>\n",
       "    <tr>\n",
       "      <th>1</th>\n",
       "      <td>08-07-2020</td>\n",
       "      <td>Beschikbaar</td>\n",
       "      <td>Ja (€ 175 per maand)</td>\n",
       "      <td>Appartement</td>\n",
       "      <td>2</td>\n",
       "      <td>1</td>\n",
       "      <td>Muurisolatie, Vloerisolatie, Dubbele beglazing</td>\n",
       "      <td>A</td>\n",
       "      <td>Stadsverwarming</td>\n",
       "      <td>N/A</td>\n",
       "      <td>Ja</td>\n",
       "      <td>Aanwezig</td>\n",
       "      <td>Niet aanwezig</td>\n",
       "      <td>Aanwezig</td>\n",
       "      <td>/appartement-te-koop/amsterdam/0f0cb3f8/blauwv...</td>\n",
       "    </tr>\n",
       "    <tr>\n",
       "      <th>2</th>\n",
       "      <td>08-07-2020</td>\n",
       "      <td>Beschikbaar</td>\n",
       "      <td>0</td>\n",
       "      <td>Appartement</td>\n",
       "      <td>2</td>\n",
       "      <td>N/A</td>\n",
       "      <td>N/A</td>\n",
       "      <td>N/A</td>\n",
       "      <td>N/A</td>\n",
       "      <td>N/A</td>\n",
       "      <td>Nee</td>\n",
       "      <td>Aanwezig</td>\n",
       "      <td>Niet aanwezig</td>\n",
       "      <td>N/A</td>\n",
       "      <td>/appartement-te-koop/amsterdam/c2d2d29c/granid...</td>\n",
       "    </tr>\n",
       "    <tr>\n",
       "      <th>3</th>\n",
       "      <td>08-07-2020</td>\n",
       "      <td>Beschikbaar</td>\n",
       "      <td>0</td>\n",
       "      <td>Appartement</td>\n",
       "      <td>1</td>\n",
       "      <td>N/A</td>\n",
       "      <td>N/A</td>\n",
       "      <td>N/A</td>\n",
       "      <td>N/A</td>\n",
       "      <td>N/A</td>\n",
       "      <td>Nee</td>\n",
       "      <td>Aanwezig</td>\n",
       "      <td>Niet aanwezig</td>\n",
       "      <td>N/A</td>\n",
       "      <td>/appartement-te-koop/amsterdam/e6abaf97/tugelaweg</td>\n",
       "    </tr>\n",
       "    <tr>\n",
       "      <th>4</th>\n",
       "      <td>08-07-2020</td>\n",
       "      <td>Beschikbaar</td>\n",
       "      <td>0</td>\n",
       "      <td>Appartement</td>\n",
       "      <td>3</td>\n",
       "      <td>N/A</td>\n",
       "      <td>N/A</td>\n",
       "      <td>N/A</td>\n",
       "      <td>N/A</td>\n",
       "      <td>N/A</td>\n",
       "      <td>Nee</td>\n",
       "      <td>Niet aanwezig</td>\n",
       "      <td>Niet aanwezig</td>\n",
       "      <td>N/A</td>\n",
       "      <td>/appartement-te-koop/amsterdam/a573c2f3/celebe...</td>\n",
       "    </tr>\n",
       "  </tbody>\n",
       "</table>\n",
       "</div>"
      ],
      "text/plain": [
       "  offered_since       status      monthly_cost_vve         type bedrooms  \\\n",
       "0    08-07-2020  Beschikbaar                     0  Appartement        3   \n",
       "1    08-07-2020  Beschikbaar  Ja (€ 175 per maand)  Appartement        2   \n",
       "2    08-07-2020  Beschikbaar                     0  Appartement        2   \n",
       "3    08-07-2020  Beschikbaar                     0  Appartement        1   \n",
       "4    08-07-2020  Beschikbaar                     0  Appartement        3   \n",
       "\n",
       "  bathrooms                                       isolation energy_label  \\\n",
       "0         1                               Dubbele beglazing            C   \n",
       "1         1  Muurisolatie, Vloerisolatie, Dubbele beglazing            A   \n",
       "2       N/A                                             N/A          N/A   \n",
       "3       N/A                                             N/A          N/A   \n",
       "4       N/A                                             N/A          N/A   \n",
       "\n",
       "           heating  parking garage        balcony         garden   storage  \\\n",
       "0         CV-ketel  Betaald    N/A  Niet aanwezig            N/A  Aanwezig   \n",
       "1  Stadsverwarming      N/A     Ja       Aanwezig  Niet aanwezig  Aanwezig   \n",
       "2              N/A      N/A    Nee       Aanwezig  Niet aanwezig       N/A   \n",
       "3              N/A      N/A    Nee       Aanwezig  Niet aanwezig       N/A   \n",
       "4              N/A      N/A    Nee  Niet aanwezig  Niet aanwezig       N/A   \n",
       "\n",
       "                                                 url  \n",
       "0  /appartement-te-koop/amsterdam/1b33ec7a/rietnesse  \n",
       "1  /appartement-te-koop/amsterdam/0f0cb3f8/blauwv...  \n",
       "2  /appartement-te-koop/amsterdam/c2d2d29c/granid...  \n",
       "3  /appartement-te-koop/amsterdam/e6abaf97/tugelaweg  \n",
       "4  /appartement-te-koop/amsterdam/a573c2f3/celebe...  "
      ]
     },
     "execution_count": 10,
     "metadata": {},
     "output_type": "execute_result"
    }
   ],
   "source": [
    "house_info.head()"
   ]
  },
  {
   "cell_type": "markdown",
   "metadata": {},
   "source": [
    "Merge two datasets together and save for later use"
   ]
  },
  {
   "cell_type": "code",
   "execution_count": 11,
   "metadata": {},
   "outputs": [],
   "source": [
    "houses = pd.merge(houses, house_info, how='left', left_on='url', right_on='url')"
   ]
  },
  {
   "cell_type": "markdown",
   "metadata": {},
   "source": [
    "## Retrieve coordinates for each of the houses"
   ]
  },
  {
   "cell_type": "code",
   "execution_count": 12,
   "metadata": {},
   "outputs": [],
   "source": [
    "# Geolocations\n",
    "\n",
    "from geopy.extra.rate_limiter import RateLimiter\n",
    "from geopy.exc import GeocoderTimedOut\n",
    "import geopy.geocoders\n",
    "from geopy.geocoders import Nominatim\n",
    "import geopy\n"
   ]
  },
  {
   "cell_type": "code",
   "execution_count": 13,
   "metadata": {},
   "outputs": [],
   "source": [
    "locator = Nominatim(user_agent = 'Google chrome Version 83.0.4103.116 (Official Build) (64-bit)')\n",
    "\n",
    "locations = []\n",
    "\n",
    "count = 1\n",
    "for post_code in houses['post_code']:\n",
    "    geocode = RateLimiter(locator.geocode, min_delay_seconds=1)\n",
    "    try:\n",
    "        loc = geocode(post_code)\n",
    "        locations.append([loc.latitude, loc.longitude])\n",
    "    except:\n",
    "        locations.append(['-', '-'])\n",
    "            \n",
    "    time.sleep(1)"
   ]
  },
  {
   "cell_type": "code",
   "execution_count": null,
   "metadata": {},
   "outputs": [],
   "source": [
    "houses['loc'] = locations"
   ]
  },
  {
   "cell_type": "code",
   "execution_count": 14,
   "metadata": {},
   "outputs": [],
   "source": [
    "# Save to a new dataset \n",
    "houses.to_csv('new_amsterdam_houses.csv', index=False)"
   ]
  },
  {
   "cell_type": "code",
   "execution_count": 15,
   "metadata": {},
   "outputs": [],
   "source": [
    "houses['loc'] = locations"
   ]
  },
  {
   "cell_type": "code",
   "execution_count": 16,
   "metadata": {},
   "outputs": [],
   "source": [
    "houses.to_csv('new_amsterdam_houses.csv', index=False)"
   ]
  }
 ],
 "metadata": {
  "kernelspec": {
   "display_name": "Python 3",
   "language": "python",
   "name": "python3"
  },
  "language_info": {
   "codemirror_mode": {
    "name": "ipython",
    "version": 3
   },
   "file_extension": ".py",
   "mimetype": "text/x-python",
   "name": "python",
   "nbconvert_exporter": "python",
   "pygments_lexer": "ipython3",
   "version": "3.8.3"
  }
 },
 "nbformat": 4,
 "nbformat_minor": 4
}
