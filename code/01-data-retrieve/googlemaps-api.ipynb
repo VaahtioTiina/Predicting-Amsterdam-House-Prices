{
 "cells": [
  {
   "cell_type": "markdown",
   "metadata": {},
   "source": [
    "# Google Maps API - Neighborhood Venues for Housing Price Prediction"
   ]
  },
  {
   "cell_type": "markdown",
   "metadata": {},
   "source": [
    "In this notebook we are retrieving information via Google Maps API, in order to gain some information about the \"trendiness\" of the neighborhood. \n",
    "\n",
    "The data will be combined with the house data."
   ]
  },
  {
   "cell_type": "code",
   "execution_count": 2,
   "metadata": {},
   "outputs": [],
   "source": [
    "# libaries\n",
    "import pandas as pd\n",
    "import requests\n",
    "\n",
    "from urllib.parse import urlencode\n",
    "import googlemaps\n",
    "import json\n",
    "import pprint\n",
    "import time\n",
    "import pandas as pd\n",
    "import numpy as np\n",
    "import ast\n"
   ]
  },
  {
   "cell_type": "code",
   "execution_count": 3,
   "metadata": {},
   "outputs": [],
   "source": [
    "# Read dataset for locations we are looking information from\n",
    "houses = pd.read_csv('final_houses.csv')"
   ]
  },
  {
   "cell_type": "code",
   "execution_count": 59,
   "metadata": {},
   "outputs": [
    {
     "data": {
      "text/plain": [
       "1666"
      ]
     },
     "execution_count": 59,
     "metadata": {},
     "output_type": "execute_result"
    }
   ],
   "source": [
    "post_code_loc = houses.groupby('post_code')[['loc']].min().reset_index()\n",
    "len(post_code_loc.post_code.unique())"
   ]
  },
  {
   "cell_type": "code",
   "execution_count": 62,
   "metadata": {},
   "outputs": [],
   "source": [
    "# Get a list of the unique locations\n",
    "locations = []\n",
    "\n",
    "for each in post_code_loc['loc'].unique():\n",
    "    loc = each.replace('[', '').replace(']', '')\n",
    "    if loc not in [\"-, -\"]:\n",
    "        locations.append(loc)"
   ]
  },
  {
   "cell_type": "code",
   "execution_count": 66,
   "metadata": {},
   "outputs": [],
   "source": [
    "# Set up the Google API client\n",
    "API_KEY = \"\"\n",
    "gmaps = googlemaps.Client(key = API_KEY)\n",
    "\n",
    "# Find plabes nearby\n",
    "\n",
    "results = []\n",
    "\n",
    "for l in locations:\n",
    "    try:\n",
    "        res_main=gmaps.places_nearby(location=l,type=[\"restaurant\",\"cafe\", \"bar\"],radius=1000)\n",
    "        results.append(res_main)\n",
    "    except:\n",
    "        pass\n",
    "    time.sleep(3)\n"
   ]
  },
  {
   "cell_type": "code",
   "execution_count": 67,
   "metadata": {},
   "outputs": [],
   "source": [
    "# Save query to text file so we don't have to request again\n",
    "with open('api_result_2.txt', 'w') as f:\n",
    "     f.write(json.dumps(results))"
   ]
  },
  {
   "cell_type": "code",
   "execution_count": 4,
   "metadata": {},
   "outputs": [],
   "source": [
    "# Open the file again to carry out analysis\n",
    "\n",
    "with open('api_result_2.txt') as json_file:\n",
    "    data = json.load(json_file)\n"
   ]
  },
  {
   "cell_type": "code",
   "execution_count": 5,
   "metadata": {},
   "outputs": [],
   "source": [
    "# Create a new dataframe for our results\n",
    "loc_df = pd.DataFrame(columns=['place_id', 'name', 'rating', 'rating_count', 'type', 'coord'])"
   ]
  },
  {
   "cell_type": "code",
   "execution_count": null,
   "metadata": {},
   "outputs": [],
   "source": [
    "# Pick up the results from our json file\n",
    "for result in data:\n",
    "    for r in result['results']:\n",
    "        place_id = r['place_id']\n",
    "        name = r['name']\n",
    "        try:\n",
    "            rating = r['rating']\n",
    "        except: \n",
    "            rating = np.nan \n",
    "        try:\n",
    "            rating_count = r['user_ratings_total']\n",
    "        except:\n",
    "            rating_count = np.nan\n",
    "        location = r['geometry']\n",
    "        coord = location['location']\n",
    "        types = r['types']\n",
    "                \n",
    "        loc_df = loc_df.append({'place_id':place_id, 'name':name, 'rating':rating, 'rating_count':rating_count, 'type':types, 'coord':coord},ignore_index=True)\n",
    "        \n"
   ]
  },
  {
   "cell_type": "markdown",
   "metadata": {},
   "source": [
    "# Exploring and cleaning the venue dataset"
   ]
  },
  {
   "cell_type": "code",
   "execution_count": 128,
   "metadata": {},
   "outputs": [],
   "source": [
    "# We will drop duplicate values as we will be using this dataframe to calculate distances to house locations\n",
    "loc_unique = loc_unique.drop_duplicates(subset=['place_id'])"
   ]
  },
  {
   "cell_type": "code",
   "execution_count": 107,
   "metadata": {},
   "outputs": [
    {
     "data": {
      "text/html": [
       "<div>\n",
       "<style scoped>\n",
       "    .dataframe tbody tr th:only-of-type {\n",
       "        vertical-align: middle;\n",
       "    }\n",
       "\n",
       "    .dataframe tbody tr th {\n",
       "        vertical-align: top;\n",
       "    }\n",
       "\n",
       "    .dataframe thead th {\n",
       "        text-align: right;\n",
       "    }\n",
       "</style>\n",
       "<table border=\"1\" class=\"dataframe\">\n",
       "  <thead>\n",
       "    <tr style=\"text-align: right;\">\n",
       "      <th></th>\n",
       "      <th>place_id</th>\n",
       "      <th>name</th>\n",
       "      <th>rating</th>\n",
       "      <th>rating_count</th>\n",
       "      <th>type</th>\n",
       "      <th>coord</th>\n",
       "    </tr>\n",
       "  </thead>\n",
       "  <tbody>\n",
       "    <tr>\n",
       "      <th>0</th>\n",
       "      <td>ChIJVXealLU_xkcRja_At0z9AGY</td>\n",
       "      <td>Amsterdam</td>\n",
       "      <td>NaN</td>\n",
       "      <td>NaN</td>\n",
       "      <td>[locality, political]</td>\n",
       "      <td>{'lat': 52.3666969, 'lng': 4.8945398}</td>\n",
       "    </tr>\n",
       "    <tr>\n",
       "      <th>1</th>\n",
       "      <td>ChIJZyc7C7oJxkcRSPqsBgyVa0k</td>\n",
       "      <td>DoubleTree by Hilton Amsterdam Centraal Station</td>\n",
       "      <td>4.4</td>\n",
       "      <td>5081</td>\n",
       "      <td>[lodging, point_of_interest, establishment]</td>\n",
       "      <td>{'lat': 52.3769633, 'lng': 4.904821799999999}</td>\n",
       "    </tr>\n",
       "    <tr>\n",
       "      <th>2</th>\n",
       "      <td>ChIJQ_tKzrkJxkcRa2Yg-YSRmA4</td>\n",
       "      <td>Hotel NH Collection Amsterdam Barbizon Palace</td>\n",
       "      <td>4.4</td>\n",
       "      <td>1658</td>\n",
       "      <td>[lodging, point_of_interest, establishment]</td>\n",
       "      <td>{'lat': 52.3764175, 'lng': 4.900220099999999}</td>\n",
       "    </tr>\n",
       "    <tr>\n",
       "      <th>3</th>\n",
       "      <td>ChIJyYzEx7wJxkcRLiQturn0qeA</td>\n",
       "      <td>Hotel ibis Amsterdam Centre Stopera</td>\n",
       "      <td>4.1</td>\n",
       "      <td>1995</td>\n",
       "      <td>[lodging, restaurant, food, point_of_interest,...</td>\n",
       "      <td>{'lat': 52.3700728, 'lng': 4.907650900000001}</td>\n",
       "    </tr>\n",
       "    <tr>\n",
       "      <th>4</th>\n",
       "      <td>ChIJs01eRrgJxkcR5jnrl3llcqM</td>\n",
       "      <td>Hotel CC Amsterdam</td>\n",
       "      <td>3.9</td>\n",
       "      <td>742</td>\n",
       "      <td>[lodging, point_of_interest, establishment]</td>\n",
       "      <td>{'lat': 52.375656, 'lng': 4.8984916}</td>\n",
       "    </tr>\n",
       "  </tbody>\n",
       "</table>\n",
       "</div>"
      ],
      "text/plain": [
       "                      place_id  \\\n",
       "0  ChIJVXealLU_xkcRja_At0z9AGY   \n",
       "1  ChIJZyc7C7oJxkcRSPqsBgyVa0k   \n",
       "2  ChIJQ_tKzrkJxkcRa2Yg-YSRmA4   \n",
       "3  ChIJyYzEx7wJxkcRLiQturn0qeA   \n",
       "4  ChIJs01eRrgJxkcR5jnrl3llcqM   \n",
       "\n",
       "                                              name  rating rating_count  \\\n",
       "0                                        Amsterdam     NaN          NaN   \n",
       "1  DoubleTree by Hilton Amsterdam Centraal Station     4.4         5081   \n",
       "2    Hotel NH Collection Amsterdam Barbizon Palace     4.4         1658   \n",
       "3              Hotel ibis Amsterdam Centre Stopera     4.1         1995   \n",
       "4                               Hotel CC Amsterdam     3.9          742   \n",
       "\n",
       "                                                type  \\\n",
       "0                              [locality, political]   \n",
       "1        [lodging, point_of_interest, establishment]   \n",
       "2        [lodging, point_of_interest, establishment]   \n",
       "3  [lodging, restaurant, food, point_of_interest,...   \n",
       "4        [lodging, point_of_interest, establishment]   \n",
       "\n",
       "                                           coord  \n",
       "0          {'lat': 52.3666969, 'lng': 4.8945398}  \n",
       "1  {'lat': 52.3769633, 'lng': 4.904821799999999}  \n",
       "2  {'lat': 52.3764175, 'lng': 4.900220099999999}  \n",
       "3  {'lat': 52.3700728, 'lng': 4.907650900000001}  \n",
       "4           {'lat': 52.375656, 'lng': 4.8984916}  "
      ]
     },
     "execution_count": 107,
     "metadata": {},
     "output_type": "execute_result"
    }
   ],
   "source": [
    "loc_unique.head()"
   ]
  },
  {
   "cell_type": "code",
   "execution_count": 129,
   "metadata": {},
   "outputs": [],
   "source": [
    "# Check for datatypes\n",
    "loc_unique.dtypes"
   ]
  },
  {
   "cell_type": "code",
   "execution_count": 109,
   "metadata": {},
   "outputs": [
    {
     "data": {
      "text/plain": [
       "(1670, 6)"
      ]
     },
     "execution_count": 109,
     "metadata": {},
     "output_type": "execute_result"
    }
   ],
   "source": [
    "loc_unique['rating_count'] = loc_unique['rating_count'].astype(float)"
   ]
  },
  {
   "cell_type": "code",
   "execution_count": 130,
   "metadata": {},
   "outputs": [],
   "source": [
    "# Check for null value\n",
    "loc_unique.isnull().sum()"
   ]
  },
  {
   "cell_type": "code",
   "execution_count": null,
   "metadata": {},
   "outputs": [],
   "source": [
    "# Drop null values \n",
    "loc_unique.dropna(inplace=True)"
   ]
  },
  {
   "cell_type": "code",
   "execution_count": 131,
   "metadata": {},
   "outputs": [],
   "source": [
    "loc_unique['coord'] = loc_unique.coord.apply(lambda x: str(x['lat'])+ \", \" + str(x['lng']))"
   ]
  },
  {
   "cell_type": "code",
   "execution_count": 132,
   "metadata": {},
   "outputs": [],
   "source": [
    "loc_unique.head()"
   ]
  },
  {
   "cell_type": "code",
   "execution_count": 134,
   "metadata": {},
   "outputs": [],
   "source": [
    "# We keep only venues where rating count is 5 - to have more reasonable justification for trends\n",
    "loc_unique = loc_unique[loc_unique.rating_count > 5]"
   ]
  },
  {
   "cell_type": "code",
   "execution_count": 135,
   "metadata": {},
   "outputs": [
    {
     "data": {
      "text/plain": [
       "(973, 6)"
      ]
     },
     "execution_count": 135,
     "metadata": {},
     "output_type": "execute_result"
    }
   ],
   "source": [
    "# Final dataset shape\n",
    "loc_unique.shape"
   ]
  },
  {
   "cell_type": "code",
   "execution_count": 138,
   "metadata": {},
   "outputs": [],
   "source": [
    "# Save file for further analysis\n",
    "loc_unique.to_csv('venue_info_2.csv', index=False)"
   ]
  }
 ],
 "metadata": {
  "kernelspec": {
   "display_name": "Python 3",
   "language": "python",
   "name": "python3"
  },
  "language_info": {
   "codemirror_mode": {
    "name": "ipython",
    "version": 3
   },
   "file_extension": ".py",
   "mimetype": "text/x-python",
   "name": "python",
   "nbconvert_exporter": "python",
   "pygments_lexer": "ipython3",
   "version": "3.8.3"
  }
 },
 "nbformat": 4,
 "nbformat_minor": 4
}
